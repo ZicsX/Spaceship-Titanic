{
 "cells": [
  {
   "cell_type": "code",
   "execution_count": 135,
   "metadata": {},
   "outputs": [],
   "source": [
    "# Import Libraries \n",
    "import os\n",
    "import pandas as pd\n",
    "\n",
    "from sklearn.model_selection import train_test_split\n",
    "from sklearn.metrics import r2_score\n",
    "\n",
    "from sklearn.linear_model import LogisticRegression\n",
    "from sklearn.svm import SVC, LinearSVC\n",
    "from sklearn.ensemble import RandomForestClassifier\n",
    "from sklearn.neighbors import KNeighborsClassifier\n",
    "from sklearn.naive_bayes import GaussianNB\n",
    "from sklearn.linear_model import Perceptron\n",
    "from sklearn.linear_model import SGDClassifier\n",
    "from sklearn.tree import DecisionTreeClassifier\n",
    "\n",
    "from sklearn.preprocessing import LabelEncoder\n",
    "from sklearn.impute import SimpleImputer\n",
    "from sklearn.preprocessing import OneHotEncoder\n",
    "from sklearn.compose import ColumnTransformer\n",
    "from sklearn.pipeline import Pipeline"
   ]
  },
  {
   "cell_type": "code",
   "execution_count": 136,
   "metadata": {},
   "outputs": [],
   "source": [
    "# read in data\n",
    "train = pd.read_csv('train.csv')\n",
    "test = pd.read_csv('test.csv')"
   ]
  },
  {
   "cell_type": "code",
   "execution_count": 137,
   "metadata": {},
   "outputs": [],
   "source": [
    "# drop columns that are not needed\n",
    "train.drop(['PassengerId'], axis=1, inplace=True)\n",
    "testPrpId = test['PassengerId']\n",
    "test.drop(['PassengerId'], axis=1, inplace=True)"
   ]
  },
  {
   "cell_type": "code",
   "execution_count": 138,
   "metadata": {},
   "outputs": [],
   "source": [
    "# split into X and y\n",
    "y = train['Transported']\n",
    "train.drop(['Transported'], axis=1, inplace=True)\n",
    "\n",
    "labelencoder = LabelEncoder()\n",
    "labelencoder.fit(y)\n",
    "y = labelencoder.transform(y)\n"
   ]
  },
  {
   "cell_type": "code",
   "execution_count": 139,
   "metadata": {},
   "outputs": [],
   "source": [
    "# Drop columns that are not needed\n",
    "train.drop(['Name'], axis=1, inplace=True)\n",
    "test.drop(['Name'], axis=1, inplace=True)"
   ]
  },
  {
   "cell_type": "code",
   "execution_count": 140,
   "metadata": {},
   "outputs": [],
   "source": [
    "# Impute missing values of Cabin with 0\n",
    "train.Cabin.fillna(0, inplace=True)\n",
    "test.Cabin.fillna(0, inplace=True)\n",
    "\n",
    "# Separate the cabin number into 3 coloumns\n",
    "train['Cabin_Type'] = train.Cabin.str[0]\n",
    "train['Cabin_Number'] = train.Cabin.str[2]\n",
    "train['Cabin_Side'] = train.Cabin.str[4]\n",
    "train.drop(['Cabin'], axis=1, inplace=True)\n",
    "\n",
    "test['Cabin_Type'] = test.Cabin.str[0]\n",
    "test['Cabin_Number'] = test.Cabin.str[2]\n",
    "test['Cabin_Side'] = test.Cabin.str[4]\n",
    "test.drop(['Cabin'], axis=1, inplace=True)\n",
    "\n",
    "# impute missing values with 0\n",
    "train['Cabin_Type'] = train['Cabin_Type'].fillna('0')\n",
    "train['Cabin_Number'] = train['Cabin_Number'].fillna('0')\n",
    "train['Cabin_Side'] = train['Cabin_Side'].fillna('0')\n",
    "\n",
    "# Replace / with 0\n",
    "train['Cabin_Side'] = train['Cabin_Side'].str.replace('/', '0')\n",
    "test['Cabin_Side'] = test['Cabin_Side'].str.replace('/', '0')\n",
    "\n",
    "test['Cabin_Type'] = test['Cabin_Type'].fillna('0')\n",
    "test['Cabin_Number'] = test['Cabin_Number'].fillna('0')\n",
    "test['Cabin_Side'] = test['Cabin_Side'].fillna('0')"
   ]
  },
  {
   "cell_type": "code",
   "execution_count": 141,
   "metadata": {},
   "outputs": [],
   "source": [
    "# Converting string columns to numeric\n",
    "categorical_features = ['HomePlanet', 'CryoSleep', 'Destination', 'VIP', 'Cabin_Type','Cabin_Number', 'Cabin_Side']\n",
    "labelencoder = LabelEncoder()\n",
    "\n",
    "for feature in categorical_features:\n",
    "    labelencoder.fit(train[feature])\n",
    "    train[feature] = labelencoder.transform(train[feature])\n",
    "    test[feature] = labelencoder.transform(test[feature])\n",
    "\n",
    "    train[feature].fillna(train[feature].mean(), inplace = True)\n",
    "    test[feature].fillna(train[feature].mean(), inplace = True)\n",
    "\n",
    "# impute missing values\n",
    "numerical_features = ['Age','RoomService','FoodCourt', 'ShoppingMall', 'Spa', 'VRDeck']\n",
    "for feature in numerical_features:\n",
    "    train[feature].fillna(train[feature].mean(), inplace = True)\n",
    "    test[feature].fillna(test[feature].mean(), inplace = True)"
   ]
  },
  {
   "cell_type": "code",
   "execution_count": 142,
   "metadata": {},
   "outputs": [],
   "source": [
    "# pipeline for categorical variables\n",
    "categorical_features = ['HomePlanet', 'CryoSleep', 'Destination', 'VIP', 'Cabin_Type','Cabin_Number', 'Cabin_Side']\n",
    "categorical_transformer = Pipeline(steps=[\n",
    "    ('imputer', SimpleImputer(strategy='most_frequent')),\n",
    "    ('onehot', OneHotEncoder(handle_unknown='ignore'))\n",
    "])\n",
    "numerical_features = ['Age','RoomService','FoodCourt', 'ShoppingMall', 'Spa', 'VRDeck']\n",
    "numerical_transformer = Pipeline(steps=[\n",
    "    ('imputer', SimpleImputer(strategy='mean'))\n",
    "])\n",
    "preprocessor = ColumnTransformer(\n",
    "    transformers=[\n",
    "        ('num', numerical_transformer, numerical_features),\n",
    "        ('cat', categorical_transformer, categorical_features)\n",
    "    ]\n",
    ")\n"
   ]
  },
  {
   "cell_type": "code",
   "execution_count": 143,
   "metadata": {},
   "outputs": [],
   "source": [
    "# Use the full pipeline to transform both training and test sets\n",
    "# preprocessor.fit(train)\n",
    "# train = preprocessor.transform(train)\n",
    "# test = preprocessor.transform(test)"
   ]
  },
  {
   "cell_type": "code",
   "execution_count": 130,
   "metadata": {},
   "outputs": [],
   "source": [
    "# Feature Scaling\n",
    "from sklearn.preprocessing import StandardScaler\n",
    "sc = StandardScaler(with_mean=False)\n",
    "train = sc.fit_transform(train)\n",
    "test = sc.transform(test)\n"
   ]
  },
  {
   "cell_type": "code",
   "execution_count": 145,
   "metadata": {},
   "outputs": [],
   "source": [
    "# split into train and test sets\n",
    "X_train, X_test, y_train, y_test = train_test_split(train, y, test_size=0.2, random_state=42)"
   ]
  },
  {
   "cell_type": "code",
   "execution_count": 146,
   "metadata": {},
   "outputs": [],
   "source": [
    "# Define models\n",
    "models = [\n",
    "    LogisticRegression(),\n",
    "    SVC(),\n",
    "    KNeighborsClassifier(n_neighbors = 3),\n",
    "    GaussianNB(),\n",
    "    Perceptron(),\n",
    "    LinearSVC(),\n",
    "    SGDClassifier(),\n",
    "    DecisionTreeClassifier(),\n",
    "    RandomForestClassifier(n_estimators=100)\n",
    "]"
   ]
  },
  {
   "cell_type": "code",
   "execution_count": null,
   "metadata": {},
   "outputs": [],
   "source": [
    "# Evaluate each model in turn\n",
    "for model in models:\n",
    "    model.fit(X_train, y_train)\n",
    "    y_pred = model.predict(X_test)\n",
    "    print(\"Model: %s\" % model.__class__.__name__)\n",
    "    print(\"R-squared: %f\" % r2_score(y_test, y_pred))\n",
    "    print(\"\\n\")"
   ]
  },
  {
   "cell_type": "code",
   "execution_count": 142,
   "metadata": {},
   "outputs": [],
   "source": [
    "# Final model\n",
    "final_model = RandomForestRegressor()"
   ]
  },
  {
   "cell_type": "code",
   "execution_count": 143,
   "metadata": {},
   "outputs": [],
   "source": [
    "# make final predictions\n",
    "final_model.fit(train, y)\n",
    "final_predictions = final_model.predict(test)"
   ]
  },
  {
   "cell_type": "code",
   "execution_count": 144,
   "metadata": {},
   "outputs": [],
   "source": [
    "# save results to file\n",
    "results = pd.DataFrame({'Property_ID': testPrpId, 'Habitability_score': final_predictions})\n",
    "\n",
    "filename = \"submission.csv\"\n",
    "\n",
    "if os.path.exists(filename):\n",
    "  os.remove(filename)\n",
    "results.to_csv(filename, index=False,header=True, mode='w')"
   ]
  },
  {
   "cell_type": "code",
   "execution_count": null,
   "metadata": {},
   "outputs": [],
   "source": []
  }
 ],
 "metadata": {
  "kernelspec": {
   "display_name": "Python 3.8.13 ('base')",
   "language": "python",
   "name": "python3"
  },
  "language_info": {
   "codemirror_mode": {
    "name": "ipython",
    "version": 3
   },
   "file_extension": ".py",
   "mimetype": "text/x-python",
   "name": "python",
   "nbconvert_exporter": "python",
   "pygments_lexer": "ipython3",
   "version": "3.8.13"
  },
  "orig_nbformat": 4,
  "vscode": {
   "interpreter": {
    "hash": "ad2bdc8ecc057115af97d19610ffacc2b4e99fae6737bb82f5d7fb13d2f2c186"
   }
  }
 },
 "nbformat": 4,
 "nbformat_minor": 2
}
